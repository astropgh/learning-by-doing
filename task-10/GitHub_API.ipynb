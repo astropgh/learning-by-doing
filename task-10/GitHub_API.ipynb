{
 "cells": [
  {
   "cell_type": "code",
   "execution_count": 1,
   "metadata": {},
   "outputs": [
    {
     "name": "stdout",
     "output_type": "stream",
     "text": [
      "[u'Hack-Hour', u'AoT', u'learning-by-doing']\n"
     ]
    }
   ],
   "source": [
    "import json\n",
    "import requests\n",
    "\n",
    "repos = json.loads(requests.get('https://api.github.com/orgs/astropgh/repos').text)\n",
    "print([repo['name'] for repo in repos])"
   ]
  },
  {
   "cell_type": "code",
   "execution_count": 2,
   "metadata": {},
   "outputs": [
    {
     "name": "stdout",
     "output_type": "stream",
     "text": [
      "[u'2017-11-14T21:47:05Z', u'2017-11-14T22:12:02Z', u'2018-09-27T20:56:58Z']\n"
     ]
    }
   ],
   "source": [
    "print([repo['created_at'] for repo in repos])"
   ]
  },
  {
   "cell_type": "code",
   "execution_count": 3,
   "metadata": {},
   "outputs": [
    {
     "name": "stdout",
     "output_type": "stream",
     "text": [
      "hector-mr Task 09\n",
      "kuanweih Task 09\n",
      "hector-mr Task 08\n",
      "troyraen Task/07\n",
      "kuanweih Task/07\n",
      "bretthandrews Completes Task/07\n",
      "djperrefort Completes task-03\n",
      "djperrefort Adds djperrefort to task-02/completed.md\n",
      "troyraen Task/03\n",
      "bretthandrews Completes Task/03\n",
      "hector-mr Task 07\n",
      "hsnee Task/07\n",
      "hector-mr Data structure for task-04\n",
      "KuanWang-Astro task03 completed\n",
      "AlanPearl Completed task 1 by adding my username to completed.md\n",
      "kuanweih completed Task/03\n",
      "davidjsetton add my username to complete task 01\n",
      "cfielder Task/02\n",
      "troyraen Troy name in task-01/completed.md\n",
      "kevindwilk added my username to task-02/completed.md\n",
      "kevindwilk added my name Kevin Wilk\n",
      "lizehan2008 I added my username\n",
      "lizehan2008 I added my username \"lizehan2008\"\n",
      "hector-mr Task 03\n",
      "bretthandrews Completes Task/02\n",
      "hsnee completed Task/03\n",
      "hsnee finishing task 02\n",
      "hsnee task-01 completed\n",
      "KuanWang-Astro task/02 completed\n",
      "KuanWang-Astro Task/01 completed, task/05 completed\n"
     ]
    }
   ],
   "source": [
    "import numpy as np\n",
    "\n",
    "pulls_learndo = json.loads(requests.get('https://api.github.com/repos/astropgh/learning-by-doing/pulls').text)\n",
    "\n",
    "\n",
    "\n",
    "for p, pp in enumerate(pulls_learndo):\n",
    "    \n",
    "    print pp['user']['login'], pp['title']"
   ]
  },
  {
   "cell_type": "code",
   "execution_count": 4,
   "metadata": {},
   "outputs": [
    {
     "name": "stdout",
     "output_type": "stream",
     "text": [
      "This is the user with the highest number of pull requests:  hector-mr\n"
     ]
    }
   ],
   "source": [
    "pulls_learndo_users = []\n",
    "\n",
    "for p, pp in enumerate(pulls_learndo):\n",
    "    \n",
    "    pulls_learndo_users.append(p)\n",
    "    pulls_learndo_users[p] = pp['user']['login']\n",
    "    \n",
    "    \n",
    "    \n",
    "    \n",
    "#word_counter = {}\n",
    "\n",
    "#for word in pulls_learndo_users:\n",
    "    \n",
    "#    if word in word_counter:\n",
    "        \n",
    "#        word_counter[word] += 1\n",
    "        \n",
    "#    else:\n",
    "        \n",
    "#        word_counter[word] = 1\n",
    "            \n",
    "            \n",
    "#popular_words = sorted(word_counter, key = word_counter.get, reverse = True)\n",
    "\n",
    "#print \"This is the user with the highest number of pull requests: \", popular_words[0]\n",
    "\n",
    "\n",
    "\n",
    "\n",
    "def most_common(lst):\n",
    "    return max(set(lst), key=lst.count)\n",
    "\n",
    "print \"This is the user with the highest number of pull requests: \", most_common(pulls_learndo_users)"
   ]
  },
  {
   "cell_type": "code",
   "execution_count": 5,
   "metadata": {},
   "outputs": [],
   "source": [
    "numpy_branches = json.loads(requests.get('https://api.github.com/repos/numpy/numpy/branches').text) "
   ]
  },
  {
   "cell_type": "code",
   "execution_count": 6,
   "metadata": {},
   "outputs": [
    {
     "name": "stdout",
     "output_type": "stream",
     "text": [
      "maintenance/1.0.3.x\n",
      "maintenance/1.1.x\n",
      "maintenance/1.2.x\n",
      "maintenance/1.3.x\n",
      "maintenance/1.4.x\n",
      "maintenance/1.5.x\n",
      "maintenance/1.6.x\n",
      "maintenance/1.7.x\n",
      "maintenance/1.8.x\n",
      "maintenance/1.9.x\n",
      "maintenance/1.10.x\n",
      "maintenance/1.11.x\n",
      "maintenance/1.12.x\n",
      "maintenance/1.13.x\n",
      "maintenance/1.14.x\n",
      "maintenance/1.15.x\n",
      "master\n",
      "-----------------------------------------------------------------------------------------------\n",
      "Charles Harris 2018-11-25T22:42:32Z\n",
      "revert-11693-accept-nep18\n"
     ]
    }
   ],
   "source": [
    "for b, bb in enumerate(numpy_branches):\n",
    "    \n",
    "    print bb['name']\n",
    "    \n",
    "    if bb['name'] == 'master':\n",
    "        \n",
    "        print '-----------------------------------------------------------------------------------------------'\n",
    "        \n",
    "        numpy_master_comm_auth = json.loads(requests.get(bb['commit']['url']).text)['commit']['author']['name']\n",
    "        numpy_master_comm_date = json.loads(requests.get(bb['commit']['url']).text)['commit']['author']['date']\n",
    "        \n",
    "        print numpy_master_comm_auth, numpy_master_comm_date"
   ]
  },
  {
   "cell_type": "code",
   "execution_count": null,
   "metadata": {},
   "outputs": [],
   "source": []
  }
 ],
 "metadata": {
  "kernelspec": {
   "display_name": "Python 2",
   "language": "python",
   "name": "python2"
  },
  "language_info": {
   "codemirror_mode": {
    "name": "ipython",
    "version": 2
   },
   "file_extension": ".py",
   "mimetype": "text/x-python",
   "name": "python",
   "nbconvert_exporter": "python",
   "pygments_lexer": "ipython2",
   "version": "2.7.15"
  }
 },
 "nbformat": 4,
 "nbformat_minor": 1
}
